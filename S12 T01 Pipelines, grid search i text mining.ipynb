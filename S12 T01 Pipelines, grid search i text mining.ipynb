{
 "cells": [
  {
   "cell_type": "markdown",
   "id": "032f5868",
   "metadata": {},
   "source": [
    "## 1.1   Agafa el conjunt de dades que vulguis i realitza un pipeline i un gridsearch aplicant l'algorisme de Random Forest."
   ]
  },
  {
   "cell_type": "code",
   "execution_count": 1,
   "id": "db9f983e",
   "metadata": {},
   "outputs": [],
   "source": [
    "from sklearn.pipeline import Pipeline\n",
    "from sklearn.impute import SimpleImputer\n",
    "from sklearn.preprocessing import StandardScaler\n",
    "from sklearn.decomposition import PCA\n",
    "from sklearn.ensemble import RandomForestClassifier\n",
    "from sklearn.model_selection import train_test_split, GridSearchCV\n",
    "from sklearn import datasets"
   ]
  },
  {
   "cell_type": "code",
   "execution_count": 2,
   "id": "961a8f7d",
   "metadata": {},
   "outputs": [],
   "source": [
    "iris = datasets.load_iris()"
   ]
  },
  {
   "cell_type": "code",
   "execution_count": 3,
   "id": "f429084b",
   "metadata": {},
   "outputs": [],
   "source": [
    "X = iris.data\n",
    "y = iris.target"
   ]
  },
  {
   "cell_type": "code",
   "execution_count": 4,
   "id": "ea5bb516",
   "metadata": {},
   "outputs": [],
   "source": [
    "X_train, X_test, y_train, y_test = train_test_split(X, y, test_size=0.2, random_state=42)"
   ]
  },
  {
   "cell_type": "code",
   "execution_count": 5,
   "id": "0ada90ef",
   "metadata": {},
   "outputs": [],
   "source": [
    "rf_pipeline = Pipeline([\n",
    "    ('std_scaler', StandardScaler()),\n",
    "    ('pca', PCA()),\n",
    "    ('rf_clf', RandomForestClassifier())\n",
    "])"
   ]
  },
  {
   "cell_type": "code",
   "execution_count": 6,
   "id": "d865a1f7",
   "metadata": {},
   "outputs": [
    {
     "data": {
      "text/plain": [
       "Pipeline(steps=[('std_scaler', StandardScaler()), ('pca', PCA()),\n",
       "                ('rf_clf', RandomForestClassifier())])"
      ]
     },
     "execution_count": 6,
     "metadata": {},
     "output_type": "execute_result"
    }
   ],
   "source": [
    "rf_pipeline.fit(X_train, y_train)"
   ]
  },
  {
   "cell_type": "code",
   "execution_count": 7,
   "id": "dc3af04b",
   "metadata": {},
   "outputs": [
    {
     "data": {
      "text/plain": [
       "array([1, 0, 2, 1, 1, 0, 1, 2, 1, 1, 2, 0, 0, 0, 0, 1, 2, 1, 1, 2, 0, 1,\n",
       "       0, 2, 2, 2, 2, 2, 0, 0])"
      ]
     },
     "execution_count": 7,
     "metadata": {},
     "output_type": "execute_result"
    }
   ],
   "source": [
    "rf_predicted = rf_pipeline.predict(X_test)\n",
    "rf_predicted"
   ]
  },
  {
   "cell_type": "code",
   "execution_count": 8,
   "id": "4e9f9ca9",
   "metadata": {},
   "outputs": [
    {
     "data": {
      "text/plain": [
       "0.967"
      ]
     },
     "execution_count": 8,
     "metadata": {},
     "output_type": "execute_result"
    }
   ],
   "source": [
    "rf_pipeline.score(X_test, y_test).round(3)"
   ]
  },
  {
   "cell_type": "markdown",
   "id": "ae356184",
   "metadata": {},
   "source": [
    "______"
   ]
  },
  {
   "cell_type": "code",
   "execution_count": 9,
   "id": "2f09747c",
   "metadata": {},
   "outputs": [
    {
     "data": {
      "text/plain": [
       "GridSearchCV(cv=5,\n",
       "             estimator=Pipeline(steps=[('std_scaler', StandardScaler()),\n",
       "                                       ('pca', PCA()),\n",
       "                                       ('rf_clf', RandomForestClassifier())]),\n",
       "             param_grid={'rf_clf__min_samples_leaf': range(1, 10),\n",
       "                         'rf_clf__n_estimators': [1, 10, 20, 30, 40, 50, 100]})"
      ]
     },
     "execution_count": 9,
     "metadata": {},
     "output_type": "execute_result"
    }
   ],
   "source": [
    "# GridSearch\n",
    "parameters = {'rf_clf__n_estimators':[1,10,20,30,40,50,100], 'rf_clf__min_samples_leaf':range(1,10)}\n",
    "\n",
    "grid = GridSearchCV(rf_pipeline, param_grid=parameters, cv=5)\n",
    "grid.fit(X_train, y_train)"
   ]
  },
  {
   "cell_type": "code",
   "execution_count": 10,
   "id": "a634157c",
   "metadata": {},
   "outputs": [
    {
     "data": {
      "text/plain": [
       "{'rf_clf__min_samples_leaf': 1, 'rf_clf__n_estimators': 20}"
      ]
     },
     "execution_count": 10,
     "metadata": {},
     "output_type": "execute_result"
    }
   ],
   "source": [
    "grid.best_params_"
   ]
  },
  {
   "cell_type": "code",
   "execution_count": 11,
   "id": "6bc20398",
   "metadata": {},
   "outputs": [
    {
     "data": {
      "text/plain": [
       "array([1, 0, 2, 1, 2, 0, 1, 2, 2, 1, 2, 0, 0, 0, 0, 1, 2, 1, 1, 2, 0, 2,\n",
       "       0, 2, 2, 2, 2, 2, 0, 0])"
      ]
     },
     "execution_count": 11,
     "metadata": {},
     "output_type": "execute_result"
    }
   ],
   "source": [
    "gs_predicted = grid.predict(X_test)\n",
    "gs_predicted"
   ]
  },
  {
   "cell_type": "code",
   "execution_count": 12,
   "id": "d43b149b",
   "metadata": {},
   "outputs": [
    {
     "data": {
      "text/plain": [
       "0.933"
      ]
     },
     "execution_count": 12,
     "metadata": {},
     "output_type": "execute_result"
    }
   ],
   "source": [
    "grid.score(X_test, y_test).round(3)"
   ]
  },
  {
   "cell_type": "markdown",
   "id": "01e5155b",
   "metadata": {},
   "source": [
    "## 1.2    Agafa un text en anglès que vulguis, i calcula'n la freqüència de les paraules"
   ]
  },
  {
   "cell_type": "code",
   "execution_count": 13,
   "id": "e45627ae",
   "metadata": {},
   "outputs": [],
   "source": [
    "import nltk\n",
    "from nltk.tokenize import word_tokenize\n",
    "from nltk.probability import FreqDist\n",
    "from nltk.corpus import stopwords\n",
    "from nltk.stem import PorterStemmer\n",
    "import matplotlib.pyplot as plt"
   ]
  },
  {
   "cell_type": "code",
   "execution_count": 14,
   "id": "1cc6dc37",
   "metadata": {},
   "outputs": [
    {
     "data": {
      "text/plain": [
       "\"\\nOh, yeah\\nMmm\\nStill don't know what I was waitin' for\\nAnd my time was runnin' wild\\nA million dead end streets and\\nEvery time I thought I'd got it made\\nIt seemed the taste was not so sweet\\nSo I turned myself to face meBut I've never caught a glimpse\\nHow the others must see the faker\\nI'm much too fast to take that test\\nCh-ch-ch-ch-changes\\nTurn and face the strange\\nCh-ch-changes\\nDon't want to be a richer man\\nCh-ch-ch-ch-changes\\nTurn and face the strange\\nCh-ch-changes\\nThere's gonna have to be a different man\\nTime may change me\\nBut I can't trace time\\nMmm, yeah\\nI watch the ripples change their size\\nBut never leave the stream\\nOf warm impermanence\\nAnd so the days float through my eyes\\nBut still the days seem the same\\nAnd these children that you spit on\\nAs they try to change their worlds\\nAre immune to your consultations\\nThey're quite aware of what they're goin' through\\nCh-ch-ch-ch-changes\\nTurn and face the strange\\nCh-ch-changes\\nDon't tell them to grow up and out of it\\nCh-ch-ch-ch-changes\\nTurn and face the strange\\nCh-ch-changes\\nWhere's your shame?\\nYou've left us up to our necks in it\\nTime may change me\\nBut you can't trace time\\nStrange fascinations fascinate me \\nAh, changes are taking\\nThe pace I'm goin' through\\nCh-ch-ch-ch-changes\\nTurn and face the strange\\nCh-ch-changes\\nOoh, look out, you rock 'n' rollers\\nCh-ch-ch-ch-changes\\nTurn and face the strange\\nCh-ch-changes\\nPretty soon now you're gonna get older\\nTime may change me\\nBut I can't trace time\\nI said that time may change me\\nBut I can't trace time\""
      ]
     },
     "execution_count": 14,
     "metadata": {},
     "output_type": "execute_result"
    }
   ],
   "source": [
    "text_raw = \"\"\"\n",
    "Oh, yeah\n",
    "Mmm\n",
    "Still don't know what I was waitin' for\n",
    "And my time was runnin' wild\n",
    "A million dead end streets and\n",
    "Every time I thought I'd got it made\n",
    "It seemed the taste was not so sweet\n",
    "So I turned myself to face meBut I've never caught a glimpse\n",
    "How the others must see the faker\n",
    "I'm much too fast to take that test\n",
    "Ch-ch-ch-ch-changes\n",
    "Turn and face the strange\n",
    "Ch-ch-changes\n",
    "Don't want to be a richer man\n",
    "Ch-ch-ch-ch-changes\n",
    "Turn and face the strange\n",
    "Ch-ch-changes\n",
    "There's gonna have to be a different man\n",
    "Time may change me\n",
    "But I can't trace time\n",
    "Mmm, yeah\n",
    "I watch the ripples change their size\n",
    "But never leave the stream\n",
    "Of warm impermanence\n",
    "And so the days float through my eyes\n",
    "But still the days seem the same\n",
    "And these children that you spit on\n",
    "As they try to change their worlds\n",
    "Are immune to your consultations\n",
    "They're quite aware of what they're goin' through\n",
    "Ch-ch-ch-ch-changes\n",
    "Turn and face the strange\n",
    "Ch-ch-changes\n",
    "Don't tell them to grow up and out of it\n",
    "Ch-ch-ch-ch-changes\n",
    "Turn and face the strange\n",
    "Ch-ch-changes\n",
    "Where's your shame?\n",
    "You've left us up to our necks in it\n",
    "Time may change me\n",
    "But you can't trace time\n",
    "Strange fascinations fascinate me \n",
    "Ah, changes are taking\n",
    "The pace I'm goin' through\n",
    "Ch-ch-ch-ch-changes\n",
    "Turn and face the strange\n",
    "Ch-ch-changes\n",
    "Ooh, look out, you rock 'n' rollers\n",
    "Ch-ch-ch-ch-changes\n",
    "Turn and face the strange\n",
    "Ch-ch-changes\n",
    "Pretty soon now you're gonna get older\n",
    "Time may change me\n",
    "But I can't trace time\n",
    "I said that time may change me\n",
    "But I can't trace time\"\"\"\n",
    "\n",
    "text_raw"
   ]
  },
  {
   "cell_type": "code",
   "execution_count": 15,
   "id": "910bcadf",
   "metadata": {
    "scrolled": true
   },
   "outputs": [
    {
     "name": "stdout",
     "output_type": "stream",
     "text": [
      "['Oh', ',', 'yeah', 'Mmm', 'Still', 'do', \"n't\", 'know', 'what', 'I', 'was', 'waitin', \"'\", 'for', 'And', 'my', 'time', 'was', 'runnin', \"'\", 'wild', 'A', 'million', 'dead', 'end', 'streets', 'and', 'Every', 'time', 'I', 'thought', 'I', \"'d\", 'got', 'it', 'made', 'It', 'seemed', 'the', 'taste', 'was', 'not', 'so', 'sweet', 'So', 'I', 'turned', 'myself', 'to', 'face', 'meBut', 'I', \"'ve\", 'never', 'caught', 'a', 'glimpse', 'How', 'the', 'others', 'must', 'see', 'the', 'faker', 'I', \"'m\", 'much', 'too', 'fast', 'to', 'take', 'that', 'test', 'Ch-ch-ch-ch-changes', 'Turn', 'and', 'face', 'the', 'strange', 'Ch-ch-changes', 'Do', \"n't\", 'want', 'to', 'be', 'a', 'richer', 'man', 'Ch-ch-ch-ch-changes', 'Turn', 'and', 'face', 'the', 'strange', 'Ch-ch-changes', 'There', \"'s\", 'gon', 'na', 'have', 'to', 'be', 'a', 'different', 'man', 'Time', 'may', 'change', 'me', 'But', 'I', 'ca', \"n't\", 'trace', 'time', 'Mmm', ',', 'yeah', 'I', 'watch', 'the', 'ripples', 'change', 'their', 'size', 'But', 'never', 'leave', 'the', 'stream', 'Of', 'warm', 'impermanence', 'And', 'so', 'the', 'days', 'float', 'through', 'my', 'eyes', 'But', 'still', 'the', 'days', 'seem', 'the', 'same', 'And', 'these', 'children', 'that', 'you', 'spit', 'on', 'As', 'they', 'try', 'to', 'change', 'their', 'worlds', 'Are', 'immune', 'to', 'your', 'consultations', 'They', \"'re\", 'quite', 'aware', 'of', 'what', 'they', \"'re\", 'goin', \"'\", 'through', 'Ch-ch-ch-ch-changes', 'Turn', 'and', 'face', 'the', 'strange', 'Ch-ch-changes', 'Do', \"n't\", 'tell', 'them', 'to', 'grow', 'up', 'and', 'out', 'of', 'it', 'Ch-ch-ch-ch-changes', 'Turn', 'and', 'face', 'the', 'strange', 'Ch-ch-changes', 'Where', \"'s\", 'your', 'shame', '?', 'You', \"'ve\", 'left', 'us', 'up', 'to', 'our', 'necks', 'in', 'it', 'Time', 'may', 'change', 'me', 'But', 'you', 'ca', \"n't\", 'trace', 'time', 'Strange', 'fascinations', 'fascinate', 'me', 'Ah', ',', 'changes', 'are', 'taking', 'The', 'pace', 'I', \"'m\", 'goin', \"'\", 'through', 'Ch-ch-ch-ch-changes', 'Turn', 'and', 'face', 'the', 'strange', 'Ch-ch-changes', 'Ooh', ',', 'look', 'out', ',', 'you', 'rock', \"'n\", \"'\", 'rollers', 'Ch-ch-ch-ch-changes', 'Turn', 'and', 'face', 'the', 'strange', 'Ch-ch-changes', 'Pretty', 'soon', 'now', 'you', \"'re\", 'gon', 'na', 'get', 'older', 'Time', 'may', 'change', 'me', 'But', 'I', 'ca', \"n't\", 'trace', 'time', 'I', 'said', 'that', 'time', 'may', 'change', 'me', 'But', 'I', 'ca', \"n't\", 'trace', 'time']\n"
     ]
    }
   ],
   "source": [
    "token_word = word_tokenize(text_raw)\n",
    "print(token_word)"
   ]
  },
  {
   "cell_type": "code",
   "execution_count": 16,
   "id": "da7552a9",
   "metadata": {
    "scrolled": true
   },
   "outputs": [
    {
     "data": {
      "text/plain": [
       "[('the', 14),\n",
       " ('I', 12),\n",
       " ('and', 8),\n",
       " ('to', 8),\n",
       " (\"n't\", 7),\n",
       " ('time', 7),\n",
       " ('face', 7),\n",
       " ('Ch-ch-ch-ch-changes', 6),\n",
       " ('Turn', 6),\n",
       " ('strange', 6),\n",
       " ('Ch-ch-changes', 6),\n",
       " ('change', 6),\n",
       " ('But', 6),\n",
       " (',', 5),\n",
       " (\"'\", 5),\n",
       " ('me', 5),\n",
       " ('may', 4),\n",
       " ('ca', 4),\n",
       " ('trace', 4),\n",
       " ('you', 4)]"
      ]
     },
     "execution_count": 16,
     "metadata": {},
     "output_type": "execute_result"
    }
   ],
   "source": [
    "word_freq = FreqDist(token_word)\n",
    "word_freq.most_common(20)"
   ]
  },
  {
   "cell_type": "markdown",
   "id": "f49809bb",
   "metadata": {},
   "source": [
    "## 2.1  Treu les stopwords i realitza stemming al teu conjunt de dades.\n"
   ]
  },
  {
   "cell_type": "code",
   "execution_count": 17,
   "id": "f302e1b1",
   "metadata": {},
   "outputs": [
    {
     "name": "stdout",
     "output_type": "stream",
     "text": [
      "{'then', 'being', 'himself', 'few', 'during', 'don', 'about', \"isn't\", 'by', 'no', 'an', 'those', 'me', 'these', 'wouldn', 'wasn', 'under', 'are', 'ours', 'until', 'when', 'that', 'my', 'very', 'some', 'y', 'were', 'such', 've', 'been', 'hadn', \"shouldn't\", 'weren', 'they', 'because', 'do', 'it', 'or', \"couldn't\", 'why', 'itself', 'mightn', \"shan't\", 'd', 's', 'has', 'doing', 'before', 'she', \"you've\", 'than', 'from', 'of', 'who', 't', \"you'd\", 'm', 'won', 'we', 'was', 'so', 'not', 'll', 'as', 'over', 'against', 'did', \"mightn't\", 'didn', 'own', \"haven't\", 'hasn', \"don't\", 'a', 'ma', 'am', 'down', 'the', 'herself', 'but', 'same', \"weren't\", 'your', 'theirs', 're', 'our', 'just', 'now', \"doesn't\", 'haven', 'his', 'yourselves', 'i', 'in', \"hadn't\", 'couldn', 'their', 'out', 'too', \"aren't\", 'most', 'can', \"should've\", 'above', \"you're\", 'yours', 'what', 'on', 'ain', 'at', 'any', 'this', 'each', 'if', \"wouldn't\", \"didn't\", 'while', 'needn', 'themselves', 'its', 'nor', \"you'll\", 'shouldn', 'myself', 'whom', 'should', 'off', 'isn', 'again', 'both', 'him', 'where', \"mustn't\", 'which', 'there', 'mustn', 'further', 'o', 'hers', 'ourselves', 'into', 'aren', \"needn't\", 'how', 'to', 'between', \"won't\", 'will', 'is', 'he', 'for', 'yourself', \"it's\", 'and', 'does', 'through', 'only', 'doesn', 'having', 'all', 'had', \"wasn't\", 'below', 'more', 'here', 'have', 'other', \"hasn't\", 'with', 'them', 'after', 'you', 'her', 'shan', \"that'll\", \"she's\", 'be', 'once', 'up'}\n"
     ]
    }
   ],
   "source": [
    "stop_words = set(stopwords.words('english'))\n",
    "print(stop_words)"
   ]
  },
  {
   "cell_type": "code",
   "execution_count": 18,
   "id": "df986fac",
   "metadata": {},
   "outputs": [
    {
     "name": "stdout",
     "output_type": "stream",
     "text": [
      "['Oh', ',', 'yeah', 'Mmm', 'Still', \"n't\", 'know', 'I', 'waitin', \"'\", 'And', 'time', 'runnin', \"'\", 'wild', 'A', 'million', 'dead', 'end', 'streets', 'Every', 'time', 'I', 'thought', 'I', \"'d\", 'got', 'made', 'It', 'seemed', 'taste', 'sweet', 'So', 'I', 'turned', 'face', 'meBut', 'I', \"'ve\", 'never', 'caught', 'glimpse', 'How', 'others', 'must', 'see', 'faker', 'I', \"'m\", 'much', 'fast', 'take', 'test', 'Ch-ch-ch-ch-changes', 'Turn', 'face', 'strange', 'Ch-ch-changes', 'Do', \"n't\", 'want', 'richer', 'man', 'Ch-ch-ch-ch-changes', 'Turn', 'face', 'strange', 'Ch-ch-changes', 'There', \"'s\", 'gon', 'na', 'different', 'man', 'Time', 'may', 'change', 'But', 'I', 'ca', \"n't\", 'trace', 'time', 'Mmm', ',', 'yeah', 'I', 'watch', 'ripples', 'change', 'size', 'But', 'never', 'leave', 'stream', 'Of', 'warm', 'impermanence', 'And', 'days', 'float', 'eyes', 'But', 'still', 'days', 'seem', 'And', 'children', 'spit', 'As', 'try', 'change', 'worlds', 'Are', 'immune', 'consultations', 'They', \"'re\", 'quite', 'aware', \"'re\", 'goin', \"'\", 'Ch-ch-ch-ch-changes', 'Turn', 'face', 'strange', 'Ch-ch-changes', 'Do', \"n't\", 'tell', 'grow', 'Ch-ch-ch-ch-changes', 'Turn', 'face', 'strange', 'Ch-ch-changes', 'Where', \"'s\", 'shame', '?', 'You', \"'ve\", 'left', 'us', 'necks', 'Time', 'may', 'change', 'But', 'ca', \"n't\", 'trace', 'time', 'Strange', 'fascinations', 'fascinate', 'Ah', ',', 'changes', 'taking', 'The', 'pace', 'I', \"'m\", 'goin', \"'\", 'Ch-ch-ch-ch-changes', 'Turn', 'face', 'strange', 'Ch-ch-changes', 'Ooh', ',', 'look', ',', 'rock', \"'n\", \"'\", 'rollers', 'Ch-ch-ch-ch-changes', 'Turn', 'face', 'strange', 'Ch-ch-changes', 'Pretty', 'soon', \"'re\", 'gon', 'na', 'get', 'older', 'Time', 'may', 'change', 'But', 'I', 'ca', \"n't\", 'trace', 'time', 'I', 'said', 'time', 'may', 'change', 'But', 'I', 'ca', \"n't\", 'trace', 'time']\n"
     ]
    }
   ],
   "source": [
    "filtered_words = [w for w in token_word if w not in stop_words]\n",
    "print(filtered_words)"
   ]
  },
  {
   "cell_type": "code",
   "execution_count": 19,
   "id": "5dd80b89",
   "metadata": {},
   "outputs": [
    {
     "data": {
      "text/plain": [
       "[('I', 12),\n",
       " (\"n't\", 7),\n",
       " ('time', 7),\n",
       " ('face', 7),\n",
       " ('Ch-ch-ch-ch-changes', 6),\n",
       " ('Turn', 6),\n",
       " ('strange', 6),\n",
       " ('Ch-ch-changes', 6),\n",
       " ('change', 6),\n",
       " ('But', 6),\n",
       " (',', 5),\n",
       " (\"'\", 5),\n",
       " ('may', 4),\n",
       " ('ca', 4),\n",
       " ('trace', 4),\n",
       " ('And', 3),\n",
       " ('Time', 3),\n",
       " (\"'re\", 3),\n",
       " ('yeah', 2),\n",
       " ('Mmm', 2)]"
      ]
     },
     "execution_count": 19,
     "metadata": {},
     "output_type": "execute_result"
    }
   ],
   "source": [
    "f_word_freq = FreqDist(filtered_words)\n",
    "f_word_freq.most_common(20)"
   ]
  },
  {
   "cell_type": "code",
   "execution_count": 20,
   "id": "307dd479",
   "metadata": {
    "scrolled": true
   },
   "outputs": [
    {
     "name": "stdout",
     "output_type": "stream",
     "text": [
      "['oh', ',', 'yeah', 'mmm', 'still', \"n't\", 'know', 'i', 'waitin', \"'\", 'and', 'time', 'runnin', \"'\", 'wild', 'a', 'million', 'dead', 'end', 'street', 'everi', 'time', 'i', 'thought', 'i', \"'d\", 'got', 'made', 'it', 'seem', 'tast', 'sweet', 'so', 'i', 'turn', 'face', 'mebut', 'i', \"'ve\", 'never', 'caught', 'glimps', 'how', 'other', 'must', 'see', 'faker', 'i', \"'m\", 'much', 'fast', 'take', 'test', 'ch-ch-ch-ch-chang', 'turn', 'face', 'strang', 'ch-ch-chang', 'do', \"n't\", 'want', 'richer', 'man', 'ch-ch-ch-ch-chang', 'turn', 'face', 'strang', 'ch-ch-chang', 'there', \"'s\", 'gon', 'na', 'differ', 'man', 'time', 'may', 'chang', 'but', 'i', 'ca', \"n't\", 'trace', 'time', 'mmm', ',', 'yeah', 'i', 'watch', 'rippl', 'chang', 'size', 'but', 'never', 'leav', 'stream', 'of', 'warm', 'imperman', 'and', 'day', 'float', 'eye', 'but', 'still', 'day', 'seem', 'and', 'children', 'spit', 'as', 'tri', 'chang', 'world', 'are', 'immun', 'consult', 'they', \"'re\", 'quit', 'awar', \"'re\", 'goin', \"'\", 'ch-ch-ch-ch-chang', 'turn', 'face', 'strang', 'ch-ch-chang', 'do', \"n't\", 'tell', 'grow', 'ch-ch-ch-ch-chang', 'turn', 'face', 'strang', 'ch-ch-chang', 'where', \"'s\", 'shame', '?', 'you', \"'ve\", 'left', 'us', 'neck', 'time', 'may', 'chang', 'but', 'ca', \"n't\", 'trace', 'time', 'strang', 'fascin', 'fascin', 'ah', ',', 'chang', 'take', 'the', 'pace', 'i', \"'m\", 'goin', \"'\", 'ch-ch-ch-ch-chang', 'turn', 'face', 'strang', 'ch-ch-chang', 'ooh', ',', 'look', ',', 'rock', \"'n\", \"'\", 'roller', 'ch-ch-ch-ch-chang', 'turn', 'face', 'strang', 'ch-ch-chang', 'pretti', 'soon', \"'re\", 'gon', 'na', 'get', 'older', 'time', 'may', 'chang', 'but', 'i', 'ca', \"n't\", 'trace', 'time', 'i', 'said', 'time', 'may', 'chang', 'but', 'i', 'ca', \"n't\", 'trace', 'time']\n"
     ]
    }
   ],
   "source": [
    "ps = PorterStemmer()\n",
    "stemmed_words = [ps.stem(w) for w in filtered_words]\n",
    "print(stemmed_words)"
   ]
  },
  {
   "cell_type": "code",
   "execution_count": 21,
   "id": "281e9826",
   "metadata": {},
   "outputs": [
    {
     "data": {
      "text/plain": [
       "[('i', 12),\n",
       " ('time', 10),\n",
       " (\"n't\", 7),\n",
       " ('turn', 7),\n",
       " ('face', 7),\n",
       " ('strang', 7),\n",
       " ('chang', 7),\n",
       " ('ch-ch-ch-ch-chang', 6),\n",
       " ('ch-ch-chang', 6),\n",
       " ('but', 6),\n",
       " (',', 5),\n",
       " (\"'\", 5),\n",
       " ('may', 4),\n",
       " ('ca', 4),\n",
       " ('trace', 4),\n",
       " ('and', 3),\n",
       " (\"'re\", 3),\n",
       " ('yeah', 2),\n",
       " ('mmm', 2),\n",
       " ('still', 2)]"
      ]
     },
     "execution_count": 21,
     "metadata": {},
     "output_type": "execute_result"
    }
   ],
   "source": [
    "s_word_freq = FreqDist(stemmed_words)\n",
    "s_word_freq.most_common(20)"
   ]
  },
  {
   "cell_type": "code",
   "execution_count": 22,
   "id": "43077b38",
   "metadata": {},
   "outputs": [
    {
     "data": {
      "image/png": "[encoded data removed]",
      "text/plain": [
       "<Figure size 720x216 with 1 Axes>"
      ]
     },
     "metadata": {
      "needs_background": "light"
     },
     "output_type": "display_data"
    }
   ],
   "source": [
    "plt.figure(figsize=(10, 3))\n",
    "plt.title('Most used words')\n",
    "word_freq.plot(40, cumulative=False)\n",
    "plt.show()"
   ]
  },
  {
   "cell_type": "code",
   "execution_count": 23,
   "id": "e4bd23ac",
   "metadata": {
    "scrolled": true
   },
   "outputs": [
    {
     "data": {
      "image/png": "[encoded data removed]",
      "text/plain": [
       "<Figure size 720x216 with 1 Axes>"
      ]
     },
     "metadata": {
      "needs_background": "light"
     },
     "output_type": "display_data"
    }
   ],
   "source": [
    "plt.figure(figsize=(10, 3))\n",
    "plt.title('Most used filtered words')\n",
    "f_word_freq.plot(40, cumulative=False)\n",
    "plt.show()"
   ]
  },
  {
   "cell_type": "code",
   "execution_count": 24,
   "id": "4956e344",
   "metadata": {},
   "outputs": [
    {
     "data": {
      "image/png": "[encoded data removed]",
      "text/plain": [
       "<Figure size 720x216 with 1 Axes>"
      ]
     },
     "metadata": {
      "needs_background": "light"
     },
     "output_type": "display_data"
    }
   ],
   "source": [
    "plt.figure(figsize=(10, 3))\n",
    "plt.title('Most used stemmed words')\n",
    "s_word_freq.plot(40, cumulative=False)\n",
    "plt.show()"
   ]
  },
  {
   "cell_type": "markdown",
   "id": "61354cb3",
   "metadata": {},
   "source": [
    "___"
   ]
  }
 ],
 "metadata": {
  "kernelspec": {
   "display_name": "Python 3",
   "language": "python",
   "name": "python3"
  },
  "language_info": {
   "codemirror_mode": {
    "name": "ipython",
    "version": 3
   },
   "file_extension": ".py",
   "mimetype": "text/x-python",
   "name": "python",
   "nbconvert_exporter": "python",
   "pygments_lexer": "ipython3",
   "version": "3.8.8"
  }
 },
 "nbformat": 4,
 "nbformat_minor": 5
}
